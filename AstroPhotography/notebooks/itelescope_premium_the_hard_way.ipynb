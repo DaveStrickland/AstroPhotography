{
 "cells": [
  {
   "cell_type": "markdown",
   "id": "dbe4a4fe-e7f1-4178-b35b-436b419398b7",
   "metadata": {},
   "source": [
    "# iTelescope premium image set processing, the hard way\n",
    "\n",
    "This notebook illustrates how to process a premium image set from iTelescope using the AstroPhotography package. The python environment used corresponds to a miniconda emvironment `ap-env.yml`.\n",
    "\n",
    "The example dataset used is the iTelescope Plan-20 premium dataset of the M101 supernova [SN 2023 ixf](https://en.wikipedia.org/wiki/SN_2023ixf). Note that these files are not provided with this package. However the notebook should work with your own files if you specify a valid fits-file containing directory at the prompt below.\n",
    "\n",
    "## Notebook environment setup"
   ]
  },
  {
   "cell_type": "code",
   "execution_count": 1,
   "id": "0e829fea-2971-4367-b8c3-bc079632cc73",
   "metadata": {
    "execution": {
     "iopub.execute_input": "2024-02-09T22:39:15.048961Z",
     "iopub.status.busy": "2024-02-09T22:39:15.048785Z",
     "iopub.status.idle": "2024-02-09T22:39:16.125926Z",
     "shell.execute_reply": "2024-02-09T22:39:16.125639Z",
     "shell.execute_reply.started": "2024-02-09T22:39:15.048949Z"
    }
   },
   "outputs": [],
   "source": [
    "import os\n",
    "import pathlib\n",
    "import sys\n",
    "import numpy as np\n",
    "import matplotlib\n",
    "import matplotlib.pyplot as plt\n",
    "import astropy\n",
    "from astropy.io import fits\n",
    "import AstroPhotography as ap"
   ]
  },
  {
   "cell_type": "code",
   "execution_count": 2,
   "id": "604a87b7-fe20-442a-a958-81b1bb990e43",
   "metadata": {
    "execution": {
     "iopub.execute_input": "2024-02-09T22:39:16.126550Z",
     "iopub.status.busy": "2024-02-09T22:39:16.126454Z",
     "iopub.status.idle": "2024-02-09T22:39:16.128347Z",
     "shell.execute_reply": "2024-02-09T22:39:16.128109Z",
     "shell.execute_reply.started": "2024-02-09T22:39:16.126540Z"
    }
   },
   "outputs": [],
   "source": [
    "def print_module_version(mod):\n",
    "    \"\"\"\n",
    "    Convenience function to pretty-print Python module mod version.\n",
    "\n",
    "    Arguments:\n",
    "        mod {module} -- Imported Python module\n",
    "\n",
    "    Returns:\n",
    "        str -- module name and version\n",
    "    \"\"\"\n",
    "    print(f\"Using module {mod.__name__} version: {mod.__version__}\")\n",
    "    return"
   ]
  },
  {
   "cell_type": "code",
   "execution_count": 3,
   "id": "06abb642-c7a1-4e9e-a591-40c30a9c8cc9",
   "metadata": {
    "execution": {
     "iopub.execute_input": "2024-02-09T22:39:16.128743Z",
     "iopub.status.busy": "2024-02-09T22:39:16.128658Z",
     "iopub.status.idle": "2024-02-09T22:39:16.153507Z",
     "shell.execute_reply": "2024-02-09T22:39:16.153232Z",
     "shell.execute_reply.started": "2024-02-09T22:39:16.128734Z"
    }
   },
   "outputs": [
    {
     "name": "stdout",
     "output_type": "stream",
     "text": [
      "Python version: 3.10.13 | packaged by conda-forge | (main, Dec 23 2023, 15:36:39) [GCC 12.3.0]\n",
      "Using module numpy version: 1.26.3\n",
      "Using module matplotlib version: 3.8.2\n",
      "Using module astropy version: 6.0.0\n",
      "Using module AstroPhotography version: 0.5.2\n"
     ]
    }
   ],
   "source": [
    "# Get Version information\n",
    "print(f'Python version: {sys.version}')\n",
    "print_module_version(np)\n",
    "print_module_version(matplotlib)\n",
    "print_module_version(astropy)\n",
    "print_module_version(ap)"
   ]
  },
  {
   "cell_type": "code",
   "execution_count": 4,
   "id": "0686d371-37dc-492e-b790-7ca3d54a4f9a",
   "metadata": {
    "execution": {
     "iopub.execute_input": "2024-02-09T22:39:16.559010Z",
     "iopub.status.busy": "2024-02-09T22:39:16.558722Z",
     "iopub.status.idle": "2024-02-09T22:39:16.560674Z",
     "shell.execute_reply": "2024-02-09T22:39:16.560441Z",
     "shell.execute_reply.started": "2024-02-09T22:39:16.558993Z"
    }
   },
   "outputs": [],
   "source": [
    "# Enable inline plotting for graphics\n",
    "# %matplotlib inline\n",
    "# Set default figure size to be larger\n",
    "# this may only work in matplotlib 2.0+!\n",
    "from IPython.core.interactiveshell import InteractiveShell\n",
    "matplotlib.rcParams['figure.figsize'] = [10.0, 6.0]\n",
    "# Enable multiple outputs from jupyter cells\n",
    "InteractiveShell.ast_node_interactivity = \"all\""
   ]
  },
  {
   "cell_type": "markdown",
   "id": "40ebe737-0213-4fb7-9c41-e092374831e6",
   "metadata": {
    "execution": {
     "iopub.execute_input": "2024-02-03T17:53:35.163241Z",
     "iopub.status.busy": "2024-02-03T17:53:35.163063Z",
     "iopub.status.idle": "2024-02-03T17:53:35.166835Z",
     "shell.execute_reply": "2024-02-03T17:53:35.166513Z",
     "shell.execute_reply.started": "2024-02-03T17:53:35.163229Z"
    }
   },
   "source": [
    "## What files do we have to work with?\n",
    "\n",
    "Let us change the working directory from the location of this notebook to a directory holding some iTelescope premium image set files. In my case this is the Plan-20 M101 dataset.\n",
    "\n",
    "**Note:** The following processing is fairly low-level and requires a lot of human interaction. In a later section we'll process the same set of files in a more automated way."
   ]
  },
  {
   "cell_type": "code",
   "execution_count": 5,
   "id": "980b586c-b7f1-4f4b-9d3c-388294200d1a",
   "metadata": {
    "execution": {
     "iopub.execute_input": "2024-02-09T22:39:26.818718Z",
     "iopub.status.busy": "2024-02-09T22:39:26.818503Z",
     "iopub.status.idle": "2024-02-09T22:39:29.793105Z",
     "shell.execute_reply": "2024-02-09T22:39:29.792772Z",
     "shell.execute_reply.started": "2024-02-09T22:39:26.818705Z"
    }
   },
   "outputs": [
    {
     "name": "stdout",
     "output_type": "stream",
     "text": [
      "Enter the path to the directory containing the premium image set\n"
     ]
    },
    {
     "name": "stdin",
     "output_type": "stream",
     "text": [
      "Image set path: /old_lnx/home/dks/Downloads/iTelescopeScratch/Plan-20-M101SN\n"
     ]
    },
    {
     "name": "stdout",
     "output_type": "stream",
     "text": [
      "Switched directory to /old_lnx/home/dks/Downloads/iTelescopeScratch/Plan-20-M101SN\n"
     ]
    }
   ],
   "source": [
    "print('Enter the path to the directory containing the premium image set')\n",
    "wdir = input('Image set path:')\n",
    "os.chdir(wdir)\n",
    "print('Switched directory to ' + os.getcwd())"
   ]
  },
  {
   "cell_type": "markdown",
   "id": "1f5029f0-e8e4-4cf9-85ec-45082ad99941",
   "metadata": {},
   "source": [
    "We now want a pattern that can be used to select the FITS files we want to process, while ignoring any other files or directories we have in that directory (e.g. processed files, configurations files, and so on).\n",
    "\n",
    "Listing the fits files from the shell I get:\n",
    "```bash\n",
    "ls ../Plan-20-M101SN/*fits\n",
    "../Plan-20-M101SN/Calibrated-iTelescope-M101_Supernova_2023ixf-180s-Lum-1.fits\n",
    "../Plan-20-M101SN/Calibrated-iTelescope-M101_Supernova_2023ixf-180s-Lum-2.fits\n",
    "../Plan-20-M101SN/Calibrated-iTelescope-M101_Supernova_2023ixf-180s-Lum-3.fits\n",
    "../Plan-20-M101SN/Calibrated-iTelescope-M101_Supernova_2023ixf-300s-Blue-1.fits\n",
    "../Plan-20-M101SN/Calibrated-iTelescope-M101_Supernova_2023ixf-300s-Blue-2.fits\n",
    "../Plan-20-M101SN/Calibrated-iTelescope-M101_Supernova_2023ixf-300s-Blue-3.fits\n",
    "../Plan-20-M101SN/Calibrated-iTelescope-M101_Supernova_2023ixf-300s-Green-1.fits\n",
    "../Plan-20-M101SN/Calibrated-iTelescope-M101_Supernova_2023ixf-300s-Green-2.fits\n",
    "../Plan-20-M101SN/Calibrated-iTelescope-M101_Supernova_2023ixf-300s-Green-3.fits\n",
    "../Plan-20-M101SN/Calibrated-iTelescope-M101_Supernova_2023ixf-300s-Red-1.fits\n",
    "../Plan-20-M101SN/Calibrated-iTelescope-M101_Supernova_2023ixf-300s-Red-2.fits\n",
    "../Plan-20-M101SN/Calibrated-iTelescope-M101_Supernova_2023ixf-300s-Red-3.fits\n",
    "```\n",
    "\n",
    "So a valid pattern that picks up the original files is `Calibrated-iTelescope*.fits`"
   ]
  },
  {
   "cell_type": "code",
   "execution_count": 6,
   "id": "546b2267-3f39-4171-8e16-13fa6bf3a013",
   "metadata": {
    "execution": {
     "iopub.execute_input": "2024-02-09T22:39:33.977112Z",
     "iopub.status.busy": "2024-02-09T22:39:33.976825Z",
     "iopub.status.idle": "2024-02-09T22:39:42.856952Z",
     "shell.execute_reply": "2024-02-09T22:39:42.856605Z",
     "shell.execute_reply.started": "2024-02-09T22:39:33.977100Z"
    },
    "scrolled": true
   },
   "outputs": [
    {
     "name": "stdout",
     "output_type": "stream",
     "text": [
      "Default file pattern for input files: Calibrated-iTelescope*.fits\n"
     ]
    },
    {
     "name": "stdin",
     "output_type": "stream",
     "text": [
      "Enter new input file pattern (or return to accept default pattern) \n"
     ]
    },
    {
     "name": "stdout",
     "output_type": "stream",
     "text": [
      "Using \"Calibrated-iTelescope*.fits\" as the input file pattern.\n"
     ]
    }
   ],
   "source": [
    "default_pattern = 'Calibrated-iTelescope*.fits'\n",
    "print(f'Default file pattern for input files: {default_pattern}')\n",
    "msg = 'Enter new input file pattern (or return to accept default pattern)'\n",
    "file_pattern = input(msg).strip() or default_pattern\n",
    "print(f'Using \"{file_pattern}\" as the input file pattern.')"
   ]
  },
  {
   "cell_type": "code",
   "execution_count": 7,
   "id": "1ccc231a-9c6c-4a66-a7cc-bc76e9793eca",
   "metadata": {
    "execution": {
     "iopub.execute_input": "2024-02-09T22:39:46.001818Z",
     "iopub.status.busy": "2024-02-09T22:39:46.001447Z",
     "iopub.status.idle": "2024-02-09T22:39:46.004221Z",
     "shell.execute_reply": "2024-02-09T22:39:46.003985Z",
     "shell.execute_reply.started": "2024-02-09T22:39:46.001805Z"
    }
   },
   "outputs": [
    {
     "name": "stdout",
     "output_type": "stream",
     "text": [
      "12 files match pattern \"Calibrated-iTelescope*.fits\" in current directory.\n",
      "  Calibrated-iTelescope-M101_Supernova_2023ixf-180s-Lum-1.fits\n",
      "  Calibrated-iTelescope-M101_Supernova_2023ixf-180s-Lum-2.fits\n",
      "  Calibrated-iTelescope-M101_Supernova_2023ixf-180s-Lum-3.fits\n",
      "  Calibrated-iTelescope-M101_Supernova_2023ixf-300s-Blue-1.fits\n",
      "  Calibrated-iTelescope-M101_Supernova_2023ixf-300s-Blue-2.fits\n",
      "  Calibrated-iTelescope-M101_Supernova_2023ixf-300s-Blue-3.fits\n",
      "  Calibrated-iTelescope-M101_Supernova_2023ixf-300s-Green-1.fits\n",
      "  Calibrated-iTelescope-M101_Supernova_2023ixf-300s-Green-2.fits\n",
      "  Calibrated-iTelescope-M101_Supernova_2023ixf-300s-Green-3.fits\n",
      "  Calibrated-iTelescope-M101_Supernova_2023ixf-300s-Red-1.fits\n",
      "  Calibrated-iTelescope-M101_Supernova_2023ixf-300s-Red-2.fits\n",
      "  Calibrated-iTelescope-M101_Supernova_2023ixf-300s-Red-3.fits\n"
     ]
    }
   ],
   "source": [
    "p_dir = pathlib.Path(r'./')\n",
    "flist = list(sorted(p_dir.glob(file_pattern)))\n",
    "print(f'{len(flist)} files match pattern \"{file_pattern}\" in current directory.')\n",
    "for fpath in flist:\n",
    "    print(f'  {fpath.name}')"
   ]
  },
  {
   "cell_type": "markdown",
   "id": "e463fcb4-e6fb-40c1-ba5c-07a4629aaea4",
   "metadata": {},
   "source": [
    "### Do these have full headers?\n",
    "\n",
    "Lets have a look at the FITS header for the first file in this list."
   ]
  },
  {
   "cell_type": "code",
   "execution_count": 8,
   "id": "8ceb13c3-5f87-476c-a3a0-6eeaac8814cd",
   "metadata": {
    "execution": {
     "iopub.execute_input": "2024-02-09T22:39:53.752622Z",
     "iopub.status.busy": "2024-02-09T22:39:53.752345Z",
     "iopub.status.idle": "2024-02-09T22:39:53.762194Z",
     "shell.execute_reply": "2024-02-09T22:39:53.761969Z",
     "shell.execute_reply.started": "2024-02-09T22:39:53.752604Z"
    },
    "scrolled": true
   },
   "outputs": [
    {
     "name": "stdout",
     "output_type": "stream",
     "text": [
      "Opened Calibrated-iTelescope-M101_Supernova_2023ixf-180s-Lum-1.fits\n",
      "Filename: Calibrated-iTelescope-M101_Supernova_2023ixf-180s-Lum-1.fits\n",
      "No.    Name      Ver    Type      Cards   Dimensions   Format\n",
      "  0  PRIMARY       1 PrimaryHDU      17   (3056, 3056)   float32   \n",
      "None\n",
      "Printing the FITS header, length=17\n"
     ]
    },
    {
     "data": {
      "text/plain": [
       "SIMPLE  =                    T / conforms to FITS standard                      \n",
       "BITPIX  =                  -32 / array data type                                \n",
       "NAXIS   =                    2 / number of array dimensions                     \n",
       "NAXIS1  =                 3056                                                  \n",
       "NAXIS2  =                 3056                                                  \n",
       "EXTEND  =                    T                                                  \n",
       "OWNER   = 'iTelescope'                                                          \n",
       "RA      = '14 03 12.40'        / [hms J2000] Target right ascension             \n",
       "OBJCTRA = '14 03 12.40'        / [hms J2000] Target right ascension             \n",
       "DEC     = '+54 20 58.0'        / [dms +N J2000] Target declination              \n",
       "OBJCTDEC= '+54 20 58.0'        / [dms +N J2000] Target declination              \n",
       "FOCALLEN=               3962.0 / Focal length of telescope in mm                \n",
       "APTDIA  =                610.0 / Aperture diameter of telescope in mm           \n",
       "EXPTIME =                180.0 / Exposure time in seconds                       \n",
       "FILTER  = 'Lum     '           / Filter type used                               \n",
       "HIERARCH OBSTARGET = 'M101 Supernova 2023ixf' / Object imaged                   \n",
       "SRCLINK = '3jnv6zuw'           / Original source file ID                        "
      ]
     },
     "execution_count": 8,
     "metadata": {},
     "output_type": "execute_result"
    }
   ],
   "source": [
    "hdr = None\n",
    "with fits.open(flist[0], mode='readonly') as hdulist:\n",
    "    print(f'Opened {flist[0].name}')\n",
    "    hdulist.verify('fix')\n",
    "    print(hdulist.info())\n",
    "    hdr = hdulist[0].header\n",
    "    print(f'Printing the FITS header, length={len(hdr)}')\n",
    "    hdr"
   ]
  },
  {
   "cell_type": "code",
   "execution_count": 9,
   "id": "d4ddcb4a-7343-4947-a749-7929ef207d2f",
   "metadata": {
    "execution": {
     "iopub.execute_input": "2024-02-09T22:39:58.912572Z",
     "iopub.status.busy": "2024-02-09T22:39:58.912399Z",
     "iopub.status.idle": "2024-02-09T22:39:58.914977Z",
     "shell.execute_reply": "2024-02-09T22:39:58.914733Z",
     "shell.execute_reply.started": "2024-02-09T22:39:58.912560Z"
    }
   },
   "outputs": [
    {
     "data": {
      "text/plain": [
       "['APTDIA',\n",
       " 'BITPIX',\n",
       " 'DEC',\n",
       " 'EXPTIME',\n",
       " 'EXTEND',\n",
       " 'FILTER',\n",
       " 'FOCALLEN',\n",
       " 'NAXIS',\n",
       " 'NAXIS1',\n",
       " 'NAXIS2',\n",
       " 'OBJCTDEC',\n",
       " 'OBJCTRA',\n",
       " 'OBSTARGET',\n",
       " 'OWNER',\n",
       " 'RA',\n",
       " 'SIMPLE',\n",
       " 'SRCLINK']"
      ]
     },
     "execution_count": 9,
     "metadata": {},
     "output_type": "execute_result"
    }
   ],
   "source": [
    "# What keywords do we have (non-comment, non-history)\n",
    "sorted(list( hdr.keys() ))"
   ]
  },
  {
   "cell_type": "markdown",
   "id": "d3c25259-c622-4a0a-aa36-52f3cb1ff3ac",
   "metadata": {},
   "source": [
    "Lets look at the keyword differences in more detail\n",
    "\n",
    "```python\n",
    "def fkeywords(fname):\n",
    "    with fits.open(fname) as hdulist:\n",
    "        hdr=hdulist[0].header\n",
    "        print(f'FITS header for primary HDU of {fname}')\n",
    "        print( sorted( list( hdr.keys() ) ) )\n",
    "    return\n",
    "\n",
    "f1='Calibrated-iTelescope-M101_Supernova_2023ixf-180s-Lum-1.fits'\n",
    "```\n",
    "\n",
    "On the M101 files we've been looking at:\n",
    "```python\n",
    "fkeywords(f1)\n",
    "FITS header for primary HDU of Calibrated-iTelescope-M101_Supernova_2023ixf-180s-Lum-1.fits\n",
    "['APTDIA', 'BITPIX', 'DEC', 'EXPTIME', 'EXTEND', 'FILTER', 'FOCALLEN', 'NAXIS', 'NAXIS1', 'NAXIS2', 'OBJCTDEC', 'OBJCTRA', 'OBSTARGET', 'OWNER', 'RA', 'SIMPLE', 'SRCLINK']\n",
    "\n",
    "# iTelescope calibration system\n",
    "In [17]: f2_itel='calibrated-T05-davestrickland-M82-20210219-002600-Red-BIN1-W-300-001.fit'\n",
    "\n",
    "# iTelescope raw file\n",
    "In [18]: f2_raw='raw-T05-davestrickland-M82-20210219-002600-Red-BIN1-W-300-001.fit'\n",
    "\n",
    "# Calibrated file produced by AstroPhotography from the raw file above...\n",
    "In [19]: f2_apcal='cal-T05-davestrickland-M82-20210219-002600-Red-BIN1-W-300-001.fits'\n",
    "\n",
    "In [20]: fkeywords(f2_raw)\n",
    "FITS header for primary HDU of raw-T05-davestrickland-M82-20210219-002600-Red-BIN1-W-300-001.fit\n",
    "['APTAREA', 'APTDIA', 'BITPIX', 'BSCALE', 'BZERO', 'CBLACK', 'CCD-TEMP', 'CSTRETCH', 'CWHITE', 'DATE-OBS', 'EGAIN', 'EXPOSURE', 'EXPTIME', 'FILTER', 'FLIPSTAT', 'FOCALLEN', 'IMAGETYP', 'INSTRUME', 'JD', 'JD-HELIO', 'NAXIS', 'NAXIS1', 'NAXIS2', 'NOTES', 'OBJECT', 'OBSERVER', 'PEDESTAL', 'READOUTM', 'ROWORDER', 'SBSTDVER', 'SET-TEMP', 'SIMPLE', 'SITELAT', 'SITELONG', 'SWCREATE', 'SWOWNER', 'SWSERIAL', 'TELESCOP', 'TRAKTIME', 'XBINNING', 'XORGSUBF', 'XPIXSZ', 'YBINNING', 'YORGSUBF', 'YPIXSZ']\n",
    "\n",
    "In [21]: fkeywords(f2_itel)\n",
    "FITS header for primary HDU of calibrated-T05-davestrickland-M82-20210219-002600-Red-BIN1-W-300-001.fit\n",
    "['AIRMASS', 'ALT-OBS', 'APTAREA', 'APTDIA', 'BITPIX', 'BSCALE', 'BZERO', 'CALSTAT', 'CBLACK', 'CCD-TEMP', 'CSTRETCH', 'CWHITE', 'DATE', 'DATE-HP', 'DATE-OBS', 'DEC', 'EGAIN', 'EXPOSURE', 'EXPTIME', 'FILTER', 'FLIPSTAT', 'FOCALLEN', 'HISTORY', 'HISTORY', 'HISTORY', 'HISTORY', 'HISTORY', 'HISTORY', 'HISTORY', 'IMAGETYP', 'INSTRUME', 'JD', 'JD-HELIO', 'LAT-OBS', 'LONG-OBS', 'NAXIS', 'NAXIS1', 'NAXIS2', 'NOTES', 'OBJCTDEC', 'OBJCTRA', 'OBJECT', 'OBSERVAT', 'OBSERVER', 'PEDESTAL', 'PIERSIDE', 'RA', 'RADECSYS', 'READOUTM', 'ROWORDER', 'RollAngle', 'SBSTDVER', 'SET-TEMP', 'SIMPLE', 'SITELAT', 'SITELONG', 'ST', 'SWCREATE', 'SWMODIFY', 'SWOWNER', 'SWSERIAL', 'TELESCOP', 'TIME-OBS', 'TIMESYS', 'TRAKTIME', 'USERNAME', 'UT', 'XBINNING', 'XORGSUBF', 'XPIXSZ', 'YBINNING', 'YORGSUBF', 'YPIXSZ', 'iTelescope', 'iTelescopePlateScaleH', 'iTelescopePlateScaleV']\n",
    "\n",
    "In [22]: fkeywords(f2_apcal)\n",
    "FITS header for primary HDU of cal-T05-davestrickland-M82-20210219-002600-Red-BIN1-W-300-001.fits\n",
    "['AIRMASS', 'ALT-OBS', 'APTAREA', 'APTDIA', 'BIASCORR', 'BIASFILE', 'BITPIX', 'BPIXCORR', 'BPIXDPIX', 'BPIXFILE', 'BPIXNBAD', 'BPIXNFIX', 'BPIXNREM', 'BPIX_MIN', 'BUNIT', 'CBLACK', 'CCD-TEMP', 'CR_CLEAN', 'CR_NPIX', 'CSTRETCH', 'CWHITE', 'DARKCORR', 'DARKFILE', 'DATE-OBS', 'DEC-OBJ', 'EGAIN', 'EXPOSURE', 'EXPTIME', 'FILTER', 'FLATCORR', 'FLATFILE', 'FLIPSTAT', 'FOCALLEN', 'HISTORY', 'HISTORY', 'HISTORY', 'HISTORY', 'HISTORY', 'HISTORY', 'IMAGETYP', 'INSTRUME', 'JD', 'JD-HELIO', 'LAT-OBS', 'LON-OBS', 'NAXIS', 'NAXIS1', 'NAXIS2', 'NOTES', 'OBJECT', 'OBJNAME', 'OBSERVAT', 'OBSERVER', 'RA-OBJ', 'READOUTM', 'ROWORDER', 'SBSTDVER', 'SET-TEMP', 'SIMPLE', 'SITELAT', 'SITELONG', 'SWCREATE', 'SWOWNER', 'SWSERIAL', 'TELESCOP', 'TRAKTIME', 'XBINNING', 'XORGSUBF', 'XPIXSZ', 'YBINNING', 'YORGSUBF', 'YPIXSZ']\n",
    "\n",
    "```"
   ]
  },
  {
   "cell_type": "markdown",
   "id": "66702850-b7e1-4316-bf2d-27d48e241662",
   "metadata": {},
   "source": [
    "After some rearranging by hand we get the following table of header keywords. The premium file is clearly missing a large number of header keywords, although this doesn't tell us which ones are needed and which ones are superfluous.\n",
    "\n",
    "|iTelescope raw|iTelescope calibrated|AP calibrated|M101 premium|\n",
    "|--------------|---------------------|-------------|------------|\n",
    "|              |AIRMASS              |AIRMASS      |            |\n",
    "|              |ALT-OBS              |ALT-OBS      |            |\n",
    "|APTAREA       |APTAREA              |APTAREA      |            |\n",
    "|APTDIA        |APTDIA               |APTDIA       |APTDIA      |\n",
    "|              |                     |BIASCORR     |            |\n",
    "|              |                     |BIASFILE     |            |\n",
    "|BITPIX        |BITPIX               |BITPIX       |BITPIX      |\n",
    "|              |                     |BPIXCORR     |            |\n",
    "|              |                     |BPIXDPIX     |            |\n",
    "|              |                     |BPIXFILE     |            |\n",
    "|              |                     |BPIXNBAD     |            |\n",
    "|              |                     |BPIXNFIX     |            |\n",
    "|              |                     |BPIXNREM     |            |\n",
    "|              |                     |BPIX_MIN     |            |\n",
    "|BSCALE        |BSCALE               |             |            |\n",
    "|BZERO         |BZERO                |             |            |\n",
    "|              |                     |BUNIT        |            |\n",
    "|              |CALSTAT              |             |            |\n",
    "|CBLACK        |CBLACK               |CBLACK       |            |\n",
    "|CCD-TEMP      |CCD-TEMP             |CCD-TEMP     |            |\n",
    "|              |                     |CR_CLEAN     |            |\n",
    "|              |                     |CR_NPIX      |            |\n",
    "|CSTRETCH      |CSTRETCH             |CSTRETCH     |            |\n",
    "|CWHITE        |CWHITE               |CWHITE       |            |\n",
    "|              |                     |DARKCORR     |            |\n",
    "|              |                     |DARKFILE     |            |\n",
    "|              |DATE                 |             |            |\n",
    "|              |DATE-HP              |             |            |\n",
    "|DATE-OBS      |DATE-OBS             |DATE-OBS     |            |\n",
    "|              |DEC                  |             |DEC         |\n",
    "|              |                     |DEC-OBJ      |            |\n",
    "|EGAIN         |EGAIN                |EGAIN        |            |\n",
    "|EXPOSURE      |EXPOSURE             |EXPOSURE     |            |\n",
    "|EXPTIME       |EXPTIME              |EXPTIME      |EXPTIME     |\n",
    "|              |                     |             |EXTEND      |\n",
    "|FILTER        |FILTER               |FILTER       |FILTER      |\n",
    "|              |                     |FLATCORR     |            |\n",
    "|              |                     |FLATFILE     |            |\n",
    "|FLIPSTAT      |FLIPSTAT             |FLIPSTAT     |            |\n",
    "|FOCALLEN      |FOCALLEN             |FOCALLEN     |FOCALLEN    |\n",
    "|IMAGETYP      |IMAGETYP             |IMAGETYP     |            |\n",
    "|INSTRUME      |INSTRUME             |INSTRUME     |            |\n",
    "|JD            |JD                   |JD           |            |\n",
    "|JD-HELIO      |JD-HELIO             |JD-HELIO     |            |\n",
    "|              |LAT-OBS              |LAT-OBS      |            |\n",
    "|              |LONG-OBS             |LON-OBS      |            |\n",
    "|NAXIS         |NAXIS                |NAXIS        |NAXIS       |\n",
    "|NAXIS1        |NAXIS1               |NAXIS1       |NAXIS1      |\n",
    "|NAXIS2        |NAXIS2               |NAXIS2       |NAXIS2      |\n",
    "|NOTES         |NOTES                |NOTES        |            |\n",
    "|              |OBJCTDEC             |             |OBJCTDEC    |\n",
    "|              |OBJCTRA              |             |OBJCTRA     |\n",
    "|OBJECT        |OBJECT               |OBJECT       |            |\n",
    "|              |                     |OBJNAME      |            |\n",
    "|              |OBSERVAT             |OBSERVAT     |            |\n",
    "|OBSERVER      |OBSERVER             |OBSERVER     |            |\n",
    "|              |                     |             |OBSTARGET   |\n",
    "|              |                     |             |OWNER       |\n",
    "|PEDESTAL      |PEDESTAL             |             |            |\n",
    "|              |PIERSIDE             |             |            |\n",
    "|              |RA                   |             |RA          |\n",
    "|              |RADECSYS             |             |            |\n",
    "|              |                     |RA-OBJ       |            |\n",
    "|READOUTM      |READOUTM             |READOUTM     |            |\n",
    "|ROWORDER      |ROWORDER             |ROWORDER     |            |\n",
    "|              |RollAngle            |             |            |\n",
    "|SBSTDVER      |SBSTDVER             |SBSTDVER     |            |\n",
    "|SET-TEMP      |SET-TEMP             |SET-TEMP     |            |\n",
    "|SIMPLE        |SIMPLE               |SIMPLE       |SIMPLE      |\n",
    "|SITELAT       |SITELAT              |SITELAT      |            |\n",
    "|SITELONG      |SITELONG             |SITELONG     |            |\n",
    "|              |                     |             |SRCLINK     |\n",
    "|              |ST                   |             |            |\n",
    "|SWCREATE      |SWCREATE             |SWCREATE     |            |\n",
    "|SWOWNER       |SWMODIFY             |SWOWNER      |            |\n",
    "|SWSERIAL      |SWOWNER              |SWSERIAL     |            |\n",
    "|              |SWSERIAL             |             |            |\n",
    "|TELESCOP      |TELESCOP             |TELESCOP     |            |\n",
    "|              |TIME-OBS             |             |            |\n",
    "|              |TIMESYS              |             |            |\n",
    "|TRAKTIME      |TRAKTIME             |TRAKTIME     |            |\n",
    "|              |USERNAME             |             |            |\n",
    "|              |UT                   |             |            |\n",
    "|XBINNING      |XBINNING             |XBINNING     |            |\n",
    "|XORGSUBF      |XORGSUBF             |XORGSUBF     |            |\n",
    "|XPIXSZ        |XPIXSZ               |XPIXSZ       |            |\n",
    "|YBINNING      |YBINNING             |YBINNING     |            |\n",
    "|YORGSUBF      |YORGSUBF             |YORGSUBF     |            |\n",
    "|YPIXSZ        |YPIXSZ               |YPIXSZ       |            |\n",
    "|              |iTelescope           |             |            |\n",
    "|              |iTelescopePlateScaleH|             |            |\n",
    "|              |iTelescopePlateScaleV|             |            |\n"
   ]
  },
  {
   "cell_type": "markdown",
   "id": "61bd2b79-966b-4d5f-abfe-718a41b6eeae",
   "metadata": {},
   "source": [
    "## Astrometry (aka Navigation)\n",
    "\n",
    "Combining multiple images of the same source in the same filter requires that each image have a valid World Coordinate System solution, based on an astrometric solution to the stars in the field of view. The `AstroPhotography` package also refers to this process as image navigation. \n",
    "\n",
    "The process consists of finding the pixel locations brightest N stars in each image, then calling `Astrometry.net` to compute a WCS solution based on those star locations, and creating a new \"navigated\" fits file that combines the calibrated file and the WCS solution. By default 2-dimensional Gaussian profiles are also fitted to a representative number of stars per image to assess the Full Width at Half Maximum of the star images (in pixels), the results of which are shown graphically in a plot and numerically in a YaML file describing the stars found and fitted per image. At the end of the process a summary of the image (star) statistics is generated in CSV format that also incorporates the plate scale (arcseconds per pixel) found in the astrometric solution, which allows a human to look for outliers such as images where the seeing or tracking was especially bad.\n",
    "\n",
    "In terms of pseudo-code\n",
    "```python\n",
    "for cal-img in calibrated-images:\n",
    "    ap_find_stars cal-img --> source-list source-plot fwhm-plot quality-report.yml ds9-sources.reg\n",
    "    ap_astrometry cal-img source-list --> navigated-img\n",
    "ap_quality_summary (all quality-report.yml files) --> quality-summary.csv\n",
    "```\n",
    "Using the (current but deprecated) bash script `navigate_all.sh` the output for a simple calibrated file is as follows:\n",
    "```bash\n",
    "Processing ./20210306/cal-T05-davestrickland-M81-20210306-235058-B-BIN1-W-300-001.fits at Sun Feb 11 04:17:23 PM EST 2024\n",
    "  Cleaning all files...\n",
    "removed 'SourceLists/srclist_T05-davestrickland-M81-20210306-235058-B-BIN1-W-300-001.fits'\n",
    "removed 'SourceLists/implot_T05-davestrickland-M81-20210306-235058-B-BIN1-W-300-001.png'\n",
    "removed 'SourceLists/ds9_T05-davestrickland-M81-20210306-235058-B-BIN1-W-300-001.reg'\n",
    "removed 'MetaData/qual_T05-davestrickland-M81-20210306-235058-B-BIN1-W-300-001.yaml'\n",
    "removed 'MetaData/srclog_T05-davestrickland-M81-20210306-235058-B-BIN1-W-300-001.log'\n",
    "removed 'NavigatedImages/nav_T05-davestrickland-M81-20210306-235058-B-BIN1-W-300-001.fits'\n",
    "  Performing star detection on ./20210306/cal-T05-davestrickland-M81-20210306-235058-B-BIN1-W-300-001.fits\n",
    "    About the run the following command python3 /home/dks/git/AstroPhotography/AstroPhotography/scripts/ap_find_stars.py -l DEBUG -m 200 ./20210306/cal-T05-davestrickland-M81-20210306-235058-B-BIN1-W-300-001.fits SourceLists/srclist_T05-davestrickland-M81-20210306-235058-B-BIN1-W-300-001.fits --retain_saturated --plotfile=SourceLists/implot_T05-davestrickland-M81-20210306-235058-B-BIN1-W-300-001.png --fwhm_plot=SourceLists/fwhmplot_T05-davestrickland-M81-20210306-235058-B-BIN1-W-300-001.png --quality_report=MetaData/qual_T05-davestrickland-M81-20210306-235058-B-BIN1-W-300-001.yaml --ds9=SourceLists/ds9_T05-davestrickland-M81-20210306-235058-B-BIN1-W-300-001.reg\n",
    "    Star detection completed successfully at Sun Feb 11 04:17:28 PM EST 2024\n",
    "      Log file written to MetaData/srclog_T05-davestrickland-M81-20210306-235058-B-BIN1-W-300-001.log\n",
    "  Performing astrometry on ./20210306/cal-T05-davestrickland-M81-20210306-235058-B-BIN1-W-300-001.fits\n",
    "    About the run the following command:  python3 /home/dks/git/AstroPhotography/AstroPhotography/scripts/ap_astrometry.py -l DEBUG ./20210306/cal-T05-davestrickland-M81-20210306-235058-B-BIN1-W-300-001.fits SourceLists/srclist_T05-davestrickland-M81-20210306-235058-B-BIN1-W-300-001.fits NavigatedImages/nav_T05-davestrickland-M81-20210306-235058-B-BIN1-W-300-001.fits\n",
    "    Astrometry completed successfully at Sun Feb 11 04:17:38 PM EST 2024\n",
    "```"
   ]
  },
  {
   "cell_type": "markdown",
   "id": "22a33460-6545-4e39-a38d-c72533afc193",
   "metadata": {},
   "source": [
    "### Navigating a single image"
   ]
  },
  {
   "cell_type": "code",
   "execution_count": 19,
   "id": "3f58e01e-35e7-4399-8f3f-4b39dd2f9077",
   "metadata": {
    "execution": {
     "iopub.execute_input": "2024-02-11T21:33:41.828695Z",
     "iopub.status.busy": "2024-02-11T21:33:41.828315Z",
     "iopub.status.idle": "2024-02-11T21:33:41.831477Z",
     "shell.execute_reply": "2024-02-11T21:33:41.831212Z",
     "shell.execute_reply.started": "2024-02-11T21:33:41.828682Z"
    }
   },
   "outputs": [],
   "source": [
    "p_loglevel  = 'DEBUG'                                                     # Loglevel\n",
    "p_fitsimg   = str(flist[0])                                               # Input fits image\n",
    "p_extnum    = 0                                                           # Extension number for data in input fits\n",
    "p_fitstbl   = p_fitsimg.replace('Calibrated-iTelescope', 'srclist')       # Output fits table of srcs\n",
    "p_search_fwhm       = 3.0                                                 # initial estimate at star fwhm in pixels\n",
    "p_search_nsigma     = 7.0                                                 # min detection sigma above background\n",
    "p_detector_bitdepth = 16                                                  # detector bitdepth (16 for most CCDs, ?? for CMOS, ?? for camera)\n",
    "p_sat_frac          = 0.8                                                 # Fraction of full well at which we assume star saturated\n",
    "p_max_sources = 200                                                       # Max number of sources to output or None\n",
    "p_nosatmask   = True                                                      # Keep possibly saturated stars.\n",
    "p_regfile     = p_fitsimg.replace('Calibrated-iTelescope', 'ds9').replace('fits', 'reg')       # Name of ds9 region file or None\n",
    "p_plotfile    = p_fitsimg.replace('Calibrated-iTelescope', 'implot').replace('fits', 'png')    # None or name of output png image w sources.\n",
    "p_qual_rprt   = p_fitsimg.replace('Calibrated-iTelescope', 'qual').replace('fits', 'yaml')     # None or name of output ascii report\n",
    "p_quiet       = False                                                                          # Quiet mode suppresses STDOUT list printing\n",
    "p_fwhm_plot   = p_fitsimg.replace('Calibrated-iTelescope', 'fwhmplot').replace('fits', 'png')  # PNG/JPG plot of PSF fits"
   ]
  },
  {
   "cell_type": "code",
   "execution_count": null,
   "id": "fbc3ba50-13a2-4752-92ee-f38d48e4bf37",
   "metadata": {},
   "outputs": [],
   "source": []
  }
 ],
 "metadata": {
  "kernelspec": {
   "display_name": "Python 3 (ipykernel)",
   "language": "python",
   "name": "python3"
  },
  "language_info": {
   "codemirror_mode": {
    "name": "ipython",
    "version": 3
   },
   "file_extension": ".py",
   "mimetype": "text/x-python",
   "name": "python",
   "nbconvert_exporter": "python",
   "pygments_lexer": "ipython3",
   "version": "3.10.13"
  }
 },
 "nbformat": 4,
 "nbformat_minor": 5
}
